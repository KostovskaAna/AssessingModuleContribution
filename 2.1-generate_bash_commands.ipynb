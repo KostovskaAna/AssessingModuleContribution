{
 "cells": [
  {
   "cell_type": "code",
   "execution_count": 5,
   "metadata": {},
   "outputs": [
    {
     "name": "stdout",
     "output_type": "stream",
     "text": [
      "taskset -c 1 python ../train_predict_shapley_RForest.py 500 modDE &\n",
      "taskset -c 2 python ../train_predict_shapley_RForest.py 501 modDE &\n",
      "taskset -c 3 python ../train_predict_shapley_RForest.py 502 modDE &\n",
      "taskset -c 4 python ../train_predict_shapley_RForest.py 503 modDE &\n",
      "taskset -c 5 python ../train_predict_shapley_RForest.py 504 modDE &\n",
      "taskset -c 6 python ../train_predict_shapley_RForest.py 505 modDE &\n",
      "taskset -c 7 python ../train_predict_shapley_RForest.py 506 modDE &\n",
      "taskset -c 8 python ../train_predict_shapley_RForest.py 507 modDE &\n",
      "taskset -c 9 python ../train_predict_shapley_RForest.py 508 modDE &\n",
      "taskset -c 10 python ../train_predict_shapley_RForest.py 509 modDE &\n",
      "taskset -c 11 python ../train_predict_shapley_RForest.py 510 modDE &\n",
      "taskset -c 12 python ../train_predict_shapley_RForest.py 511 modDE &\n",
      "taskset -c 13 python ../train_predict_shapley_RForest.py 512 modDE &\n",
      "taskset -c 14 python ../train_predict_shapley_RForest.py 513 modDE &\n",
      "taskset -c 15 python ../train_predict_shapley_RForest.py 514 modDE &\n",
      "taskset -c 16 python ../train_predict_shapley_RForest.py 515 modDE &\n",
      "taskset -c 17 python ../train_predict_shapley_RForest.py 516 modDE &\n",
      "taskset -c 18 python ../train_predict_shapley_RForest.py 517 modDE &\n",
      "taskset -c 19 python ../train_predict_shapley_RForest.py 518 modDE &\n",
      "taskset -c 20 python ../train_predict_shapley_RForest.py 519 modDE &\n",
      "taskset -c 21 python ../train_predict_shapley_RForest.py 520 modDE &\n",
      "taskset -c 22 python ../train_predict_shapley_RForest.py 521 modDE &\n",
      "taskset -c 23 python ../train_predict_shapley_RForest.py 522 modDE &\n",
      "taskset -c 24 python ../train_predict_shapley_RForest.py 523 modDE &\n",
      "taskset -c 25 python ../train_predict_shapley_RForest.py 524 modDE &\n",
      "taskset -c 26 python ../train_predict_shapley_RForest.py 525 modDE &\n",
      "taskset -c 27 python ../train_predict_shapley_RForest.py 526 modDE &\n",
      "taskset -c 28 python ../train_predict_shapley_RForest.py 527 modDE &\n",
      "taskset -c 29 python ../train_predict_shapley_RForest.py 528 modDE &\n",
      "taskset -c 30 python ../train_predict_shapley_RForest.py 529 modDE &\n",
      "taskset -c 31 python ../train_predict_shapley_RForest.py 530 modDE &\n",
      "taskset -c 32 python ../train_predict_shapley_RForest.py 531 modDE &\n",
      "taskset -c 33 python ../train_predict_shapley_RForest.py 532 modDE &\n",
      "taskset -c 34 python ../train_predict_shapley_RForest.py 533 modDE &\n",
      "taskset -c 35 python ../train_predict_shapley_RForest.py 534 modDE &\n",
      "taskset -c 36 python ../train_predict_shapley_RForest.py 535 modDE &\n",
      "taskset -c 37 python ../train_predict_shapley_RForest.py 536 modDE &\n",
      "taskset -c 38 python ../train_predict_shapley_RForest.py 537 modDE &\n",
      "taskset -c 39 python ../train_predict_shapley_RForest.py 538 modDE &\n",
      "taskset -c 40 python ../train_predict_shapley_RForest.py 539 modDE &\n",
      "taskset -c 41 python ../train_predict_shapley_RForest.py 540 modDE &\n",
      "taskset -c 42 python ../train_predict_shapley_RForest.py 541 modDE &\n",
      "taskset -c 43 python ../train_predict_shapley_RForest.py 542 modDE &\n",
      "taskset -c 44 python ../train_predict_shapley_RForest.py 543 modDE &\n",
      "taskset -c 45 python ../train_predict_shapley_RForest.py 544 modDE &\n",
      "taskset -c 46 python ../train_predict_shapley_RForest.py 545 modDE &\n",
      "taskset -c 47 python ../train_predict_shapley_RForest.py 546 modDE &\n",
      "taskset -c 48 python ../train_predict_shapley_RForest.py 547 modDE &\n",
      "taskset -c 49 python ../train_predict_shapley_RForest.py 548 modDE &\n",
      "taskset -c 50 python ../train_predict_shapley_RForest.py 549 modDE &\n",
      "taskset -c 51 python ../train_predict_shapley_RForest.py 550 modDE &\n",
      "taskset -c 52 python ../train_predict_shapley_RForest.py 551 modDE &\n",
      "taskset -c 53 python ../train_predict_shapley_RForest.py 552 modDE &\n",
      "taskset -c 54 python ../train_predict_shapley_RForest.py 553 modDE &\n",
      "taskset -c 55 python ../train_predict_shapley_RForest.py 554 modDE &\n",
      "taskset -c 56 python ../train_predict_shapley_RForest.py 555 modDE &\n",
      "taskset -c 57 python ../train_predict_shapley_RForest.py 556 modDE &\n",
      "taskset -c 58 python ../train_predict_shapley_RForest.py 557 modDE &\n",
      "taskset -c 59 python ../train_predict_shapley_RForest.py 558 modDE &\n",
      "taskset -c 60 python ../train_predict_shapley_RForest.py 559 modDE &\n",
      "taskset -c 61 python ../train_predict_shapley_RForest.py 560 modDE &\n",
      "taskset -c 62 python ../train_predict_shapley_RForest.py 561 modDE &\n",
      "taskset -c 63 python ../train_predict_shapley_RForest.py 562 modDE &\n",
      "taskset -c 64 python ../train_predict_shapley_RForest.py 563 modDE &\n",
      "taskset -c 65 python ../train_predict_shapley_RForest.py 564 modDE &\n",
      "taskset -c 66 python ../train_predict_shapley_RForest.py 565 modDE &\n",
      "taskset -c 67 python ../train_predict_shapley_RForest.py 566 modDE &\n",
      "taskset -c 68 python ../train_predict_shapley_RForest.py 567 modDE &\n",
      "taskset -c 69 python ../train_predict_shapley_RForest.py 568 modDE &\n",
      "taskset -c 70 python ../train_predict_shapley_RForest.py 569 modDE &\n",
      "taskset -c 71 python ../train_predict_shapley_RForest.py 570 modDE &\n",
      "taskset -c 72 python ../train_predict_shapley_RForest.py 571 modDE &\n",
      "taskset -c 73 python ../train_predict_shapley_RForest.py 572 modDE &\n",
      "taskset -c 74 python ../train_predict_shapley_RForest.py 573 modDE &\n",
      "taskset -c 75 python ../train_predict_shapley_RForest.py 574 modDE &\n",
      "taskset -c 76 python ../train_predict_shapley_RForest.py 575 modDE &\n"
     ]
    }
   ],
   "source": [
    "process = 1\n",
    "for conf in range(500, 576):\n",
    "    print(f\"taskset -c {process} python ../train_predict_shapley_RForest.py {conf} modDE &\")\n",
    "    process +=1"
   ]
  }
 ],
 "metadata": {
  "kernelspec": {
   "display_name": "Python 3.8.3 64-bit",
   "language": "python",
   "name": "python3"
  },
  "language_info": {
   "codemirror_mode": {
    "name": "ipython",
    "version": 3
   },
   "file_extension": ".py",
   "mimetype": "text/x-python",
   "name": "python",
   "nbconvert_exporter": "python",
   "pygments_lexer": "ipython3",
   "version": "3.8.3"
  },
  "orig_nbformat": 4,
  "vscode": {
   "interpreter": {
    "hash": "949777d72b0d2535278d3dc13498b2535136f6dfe0678499012e853ee9abcab1"
   }
  }
 },
 "nbformat": 4,
 "nbformat_minor": 2
}
