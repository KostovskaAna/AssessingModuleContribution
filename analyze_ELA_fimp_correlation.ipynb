{
 "cells": [
  {
   "cell_type": "code",
   "execution_count": 58,
   "metadata": {},
   "outputs": [
    {
     "name": "stdout",
     "output_type": "stream",
     "text": [
      "0.2692223250077089\n"
     ]
    }
   ],
   "source": [
    "import pandas as pd\n",
    "import scipy.stats as stats\n",
    "import numpy as np\n",
    "import random \n",
    "\n",
    "shapley = pd.read_csv('./results/modCMA/shapley_merged/shapley_test.csv', index_col=0)\n",
    "shapley = shapley[shapley.index.str.endswith('1500_5')]\n",
    "\n",
    "# print(shapley)\n",
    "arr = []\n",
    "for i in range (0, 50):\n",
    "    shapley_elitism_true = list(shapley.loc[f'{i}_1500_5'])\n",
    "    # shapley_elitism_false = list(shapley.loc[f'{random.randint(0, 50)}_1500_5'])\n",
    "    shapley_elitism_false = list(shapley.loc[f'{i+162}_1500_5'])\n",
    "    # print(shapley_elitism_true)\n",
    "    # print(shapley_elitism_false)\n",
    "    rho, pval = stats.spearmanr(shapley_elitism_true, shapley_elitism_false)\n",
    "    arr.append(np.abs(rho))\n",
    "    # print(rho, pval)\n",
    "print(np.mean(arr))\n",
    "# print(shapley)"
   ]
  }
 ],
 "metadata": {
  "kernelspec": {
   "display_name": "Python 3",
   "language": "python",
   "name": "python3"
  },
  "language_info": {
   "codemirror_mode": {
    "name": "ipython",
    "version": 3
   },
   "file_extension": ".py",
   "mimetype": "text/x-python",
   "name": "python",
   "nbconvert_exporter": "python",
   "pygments_lexer": "ipython3",
   "version": "3.8.3"
  },
  "orig_nbformat": 4
 },
 "nbformat": 4,
 "nbformat_minor": 2
}
