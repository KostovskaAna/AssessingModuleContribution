{
 "cells": [
  {
   "cell_type": "code",
   "execution_count": null,
   "metadata": {},
   "outputs": [],
   "source": [
    "import pandas as pd \n",
    "import numpy as np\n",
    "\n",
    "\n",
    "def process_shapley(modAlgo, confNum):\n",
    "    shapley_train = []\n",
    "    shapley_test = []\n",
    "    shapley_index = []\n",
    "    for conf in range(0, confNum):\n",
    "        print(conf)\n",
    "        for dim in [5, 30]:\n",
    "            for budget in [50*dim, 100*dim, 300*dim, 500*dim, 1000*dim, 1500*dim]: \n",
    "                for fold in range(1, 6):\n",
    "                    df_tr = pd.read_csv(f\"./results/{modAlgo}/shapley/shapley_budget_{budget}_conf_{conf}_{dim}D_fold_{fold}_train.csv\")\n",
    "                    df_te = pd.read_csv(f\"./results/{modAlgo}/shapley/shapley_budget_{budget}_conf_{conf}_{dim}D_fold_{fold}_test.csv\")\n",
    "                    if fold != 1:\n",
    "                        df_train = pd.concat([df_train, df_tr])\n",
    "                        df_test = pd.concat([df_test, df_te])\n",
    "                    else: \n",
    "                        df_train = df_tr\n",
    "                        df_test = df_te\n",
    "                df_train.index = df_train.iloc[:,0]\n",
    "                df_train.drop([\"Unnamed: 0\"], inplace=True, axis=1)\n",
    "                df_test.index = df_test.iloc[:,0]\n",
    "                df_test.drop([\"Unnamed: 0\"], inplace=True, axis=1)\n",
    "                data_train = []\n",
    "                data_test = []\n",
    "                for fid in range(1, 25):\n",
    "                    for iid in range(1, 6):\n",
    "                        df_train_sub = df_train[df_train.index== f'{fid}_{iid}']\n",
    "                        df_test_sub = df_test[df_test.index== f'{fid}_{iid}']\n",
    "                        data_train.append(list(np.mean(df_train_sub, axis=0)))\n",
    "                        data_test.append(list(np.mean(df_test_sub, axis=0)))\n",
    "\n",
    "                shapley_train.append(list(np.mean(data_train, axis=0)))\n",
    "                shapley_test.append(list(np.mean(data_test, axis=0)))\n",
    "                shapley_index.append(f'{conf}_{budget}_{dim}')\n",
    "    df_shapley_train = pd.DataFrame(shapley_train, index=shapley_index)\n",
    "    df_shapley_test=pd.DataFrame(shapley_test, index=shapley_index)\n",
    "    df_shapley_train.to_csv(f\"./results/{modAlgo}/shapley_merged/shapley_train.csv\")\n",
    "    df_shapley_test.to_csv(f\"./results/{modAlgo}/shapley_merged/shapley_test.csv\")\n",
    "\n",
    "# process_shapley('modCMA', 324)\n",
    "process_shapley('modDE', 576)\n"
   ]
  }
 ],
 "metadata": {
  "kernelspec": {
   "display_name": "Python 3.8.3 64-bit",
   "language": "python",
   "name": "python3"
  },
  "language_info": {
   "codemirror_mode": {
    "name": "ipython",
    "version": 3
   },
   "file_extension": ".py",
   "mimetype": "text/x-python",
   "name": "python",
   "nbconvert_exporter": "python",
   "pygments_lexer": "ipython3",
   "version": "3.8.3"
  },
  "orig_nbformat": 4,
  "vscode": {
   "interpreter": {
    "hash": "949777d72b0d2535278d3dc13498b2535136f6dfe0678499012e853ee9abcab1"
   }
  }
 },
 "nbformat": 4,
 "nbformat_minor": 2
}
