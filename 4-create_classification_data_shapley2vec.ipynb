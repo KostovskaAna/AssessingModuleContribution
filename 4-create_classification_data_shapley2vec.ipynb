{
 "cells": [
  {
   "cell_type": "code",
   "execution_count": 1,
   "metadata": {},
   "outputs": [],
   "source": [
    "import pandas as pd \n",
    "import numpy as np\n",
    "\n",
    "def create_classification_shapley2vec(modAlgo):\n",
    "    dims = [5, 30] \n",
    "    modules = ['elitist', 'mirrored', 'base_sampler', 'weights_option', 'local_restart', 'step_size_adaptation'] if modAlgo == 'modCMA' else ['mutation_base','mutation_reference','mutation_n_comps','use_archive','crossover','adaptation_method','lpsr']\n",
    "    df_shapley_train = pd.read_csv(f'./results/{modAlgo}/shapley_merged/shapley_train.csv', index_col=0)\n",
    "    df_shapley_test = pd.read_csv(f'./results/{modAlgo}/shapley_merged/shapley_test.csv', index_col=0)\n",
    "    df_grid = pd.read_csv(f'./data/raw_data/{modAlgo}_conf_grid.csv', index_col=0)\n",
    "\n",
    "    # save classification data for each module separately\n",
    "    for module in modules:\n",
    "        for dim in dims:\n",
    "            budgets = [50*dim, 100*dim, 300*dim, 500*dim, 1000*dim, 1500*dim] \n",
    "            for budget in budgets:\n",
    "                variable = f'.*_{budget}_{dim}'           \n",
    "                sub_df = df_shapley_train[df_shapley_train.index.str.contains(fr'\\b{variable}\\b', regex=True)]\n",
    "                module_values = df_grid[module]\n",
    "                df_modules = pd.DataFrame(np.array(module_values), index = sub_df.index, columns=[module])\n",
    "                sub_df = sub_df.join(df_modules)  \n",
    "                sub_df = sub_df.replace({np.nan: 'N'})\n",
    "                sub_df.to_csv(f'./data/classification_data/{modAlgo}/{module}_dim_{dim}_budget_{budget}.csv')\n",
    "\n",
    "\n",
    "# create_classification_shapley2vec('modCMA')\n",
    "create_classification_shapley2vec('modDE')\n"
   ]
  },
  {
   "cell_type": "code",
   "execution_count": 2,
   "metadata": {},
   "outputs": [],
   "source": [
    "import pandas as pd\n",
    "import numpy as np\n",
    "def create_classification_shapley2vec_all_modules(modAlgo):\n",
    "    dims = [5, 30]\n",
    "    modules = ['elitist', 'mirrored', 'base_sampler', 'weights_option', 'local_restart', 'step_size_adaptation'] if modAlgo == 'modCMA' else ['mutation_base','mutation_reference','mutation_n_comps','use_archive','crossover','adaptation_method','lpsr']\n",
    "    num_conf = 324 if modAlgo == 'modCMA' else 576\n",
    "    df_shapley_train = pd.read_csv(f'./results/{modAlgo}/shapley_merged/shapley_train.csv', index_col=0)\n",
    "    df_shapley_test = pd.read_csv(f'./results/{modAlgo}/shapley_merged/shapley_test.csv', index_col=0)\n",
    "    df_grid = pd.read_csv(f'./data/raw_data/{modAlgo}_conf_grid.csv', index_col=0)\n",
    "\n",
    "    for dim in dims:\n",
    "        budgets = [50*dim, 100*dim, 300*dim, 500*dim, 1000*dim, 1500*dim] \n",
    "        for budget in budgets:\n",
    "            sub_df = df_shapley_train[df_shapley_train.index.str.endswith(f'_{budget}_{dim}')]\n",
    "            sub_df.index = range(0, num_conf)\n",
    "            modules_values = df_grid[modules]\n",
    "            sub_df = sub_df.join(modules_values) \n",
    "            sub_df = sub_df.replace({np.nan: 'N'})\n",
    "            sub_df.to_csv(f'./data/classification_data/{modAlgo}/all_dim_{dim}_budget_{budget}.csv')\n",
    "\n",
    "# create_classification_shapley2vec_all_modules('modCMA')\n",
    "create_classification_shapley2vec_all_modules('modDE')"
   ]
  }
 ],
 "metadata": {
  "kernelspec": {
   "display_name": "Python 3.8.3 64-bit",
   "language": "python",
   "name": "python3"
  },
  "language_info": {
   "codemirror_mode": {
    "name": "ipython",
    "version": 3
   },
   "file_extension": ".py",
   "mimetype": "text/x-python",
   "name": "python",
   "nbconvert_exporter": "python",
   "pygments_lexer": "ipython3",
   "version": "3.8.3"
  },
  "orig_nbformat": 4,
  "vscode": {
   "interpreter": {
    "hash": "949777d72b0d2535278d3dc13498b2535136f6dfe0678499012e853ee9abcab1"
   }
  }
 },
 "nbformat": 4,
 "nbformat_minor": 2
}
