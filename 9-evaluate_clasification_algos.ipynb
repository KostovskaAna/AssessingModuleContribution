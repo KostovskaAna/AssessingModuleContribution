{
 "cells": [
  {
   "cell_type": "code",
   "execution_count": 2,
   "metadata": {},
   "outputs": [
    {
     "name": "stdout",
     "output_type": "stream",
     "text": [
      "Prediction of modular configuration using the Shapley meta-representations.\n",
      "F1 scores aggregated across all modules, dims, budgets.\n",
      "====SHAP====\n",
      "\n",
      "ModCMA\n",
      "RF 0.623\n",
      "RF-MLC 0.618\n",
      "modCMA TabPFN 0.629\n",
      "\n",
      "modDE\n",
      "RF 0.603\n",
      "RF-MLC 0.601\n",
      "TabPFN 0.589\n",
      "====performance====\n",
      "\n",
      "ModCMA\n",
      "RF 0.794\n",
      "RF-MLC 0.772\n",
      "modCMA TabPFN 0.811\n",
      "\n",
      "modDE\n",
      "RF 0.758\n",
      "RF-MLC 0.744\n",
      "TabPFN 0.79\n"
     ]
    }
   ],
   "source": [
    "import pandas as pd\n",
    "import numpy as np\n",
    "\n",
    "print(\"Prediction of modular configuration using the Shapley meta-representations.\")\n",
    "print(\"F1 scores aggregated across all modules, dims, budgets.\")\n",
    "\n",
    "\n",
    "print(\"====SHAP====\")\n",
    "print(\"\\nModCMA\")\n",
    "f1_RF = pd.read_csv(\"./results/modCMA/classification_s2v_RF.csv\", index_col=0)['f1']\n",
    "print(\"RF\",round(np.mean(f1_RF),3))\n",
    "f1_RF = pd.read_csv(\"./results/modCMA/classification_s2v_RF_MLC.csv\", index_col=0)['f1']\n",
    "print( \"RF-MLC\",round(np.mean(f1_RF),3))\n",
    "f1_TabPFN = pd.read_csv(\"./results/modCMA/classification_s2v_TabPFN.csv\", index_col=0)['f1']\n",
    "print(\"modCMA\", \"TabPFN\",round(np.mean(f1_TabPFN),3))\n",
    "\n",
    "\n",
    "print(\"\\nmodDE\")\n",
    "f1_RF = pd.read_csv(\"./results/modDE/classification_s2v_RF.csv\", index_col=0)['f1']\n",
    "print(\"RF\",round(np.mean(f1_RF),3))\n",
    "f1_RF = pd.read_csv(\"./results/modDE/classification_s2v_RF_MLC.csv\", index_col=0)['f1']\n",
    "print( \"RF-MLC\",round(np.mean(f1_RF),3))\n",
    "f1_TabPFN = pd.read_csv(\"./results/modDE/classification_s2v_TabPFN.csv\", index_col=0)['f1']\n",
    "print(\"TabPFN\",round(np.mean(f1_TabPFN),3))\n",
    "\n",
    "\n",
    "\n",
    "print(\"====performance====\")\n",
    "print(\"\\nModCMA\")\n",
    "f1_RF = pd.read_csv(\"./results/modCMA/classification_p2v_RF.csv\", index_col=0)['f1']\n",
    "print(\"RF\",round(np.mean(f1_RF),3))\n",
    "f1_RF = pd.read_csv(\"./results/modCMA/classification_p2v_RF_MLC.csv\", index_col=0)['f1']\n",
    "print( \"RF-MLC\", round(np.mean(f1_RF),3))\n",
    "f1_TabPFN = pd.read_csv(\"./results/modCMA/classification_p2v_TabPFN.csv\", index_col=0)['f1']\n",
    "print(\"modCMA\", \"TabPFN\", round(np.mean(f1_TabPFN),3))\n",
    "\n",
    "\n",
    "print(\"\\nmodDE\")\n",
    "f1_RF = pd.read_csv(\"./results/modDE/classification_p2v_RF.csv\", index_col=0)['f1']\n",
    "print(\"RF\", round(np.mean(f1_RF),3))\n",
    "f1_RF = pd.read_csv(\"./results/modDE/classification_p2v_RF_MLC.csv\", index_col=0)['f1']\n",
    "print( \"RF-MLC\", round(np.mean(f1_RF),3))\n",
    "f1_TabPFN = pd.read_csv(\"./results/modDE/classification_p2v_TabPFN.csv\", index_col=0)['f1']\n",
    "print(\"TabPFN\", round(np.mean(f1_TabPFN),3))"
   ]
  }
 ],
 "metadata": {
  "kernelspec": {
   "display_name": "Python 3.8.16 ('gecco2023')",
   "language": "python",
   "name": "python3"
  },
  "language_info": {
   "codemirror_mode": {
    "name": "ipython",
    "version": 3
   },
   "file_extension": ".py",
   "mimetype": "text/x-python",
   "name": "python",
   "nbconvert_exporter": "python",
   "pygments_lexer": "ipython3",
   "version": "3.8.16"
  },
  "orig_nbformat": 4,
  "vscode": {
   "interpreter": {
    "hash": "6c89a74c738d6b86f6a86a5c2beae296fa07f6fa7604ded0c128cb198698d1e8"
   }
  }
 },
 "nbformat": 4,
 "nbformat_minor": 2
}
