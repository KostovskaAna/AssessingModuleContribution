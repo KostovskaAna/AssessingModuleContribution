{
 "cells": [
  {
   "cell_type": "code",
   "execution_count": 18,
   "metadata": {},
   "outputs": [
    {
     "name": "stdout",
     "output_type": "stream",
     "text": [
      "     dsc  dim  budget meta\n",
      "0   43.9    5     250  s2v\n",
      "1   37.8    5     500  s2v\n",
      "2   27.3    5    1500  s2v\n",
      "3   24.7    5    2500  s2v\n",
      "4   26.2    5    5000  s2v\n",
      "5   26.6    5    7500  s2v\n",
      "6   17.0   30    1500  s2v\n",
      "7   19.3   30    3000  s2v\n",
      "8   22.0   30    9000  s2v\n",
      "9   25.0   30   15000  s2v\n",
      "10  26.2   30   30000  s2v\n",
      "11  23.6   30   45000  s2v\n",
      "12  70.7    5     250  p2v\n",
      "13  61.6    5     500  p2v\n",
      "14  48.4    5    1500  p2v\n",
      "15  52.3    5    2500  p2v\n",
      "16  42.7    5    5000  p2v\n",
      "17  48.8    5    7500  p2v\n",
      "18  46.7   30    1500  p2v\n",
      "19  48.1   30    3000  p2v\n",
      "20  39.2   30    9000  p2v\n",
      "21  41.8   30   15000  p2v\n",
      "22  39.8   30   30000  p2v\n",
      "23  40.1   30   45000  p2v\n",
      "avg dsc 37.49166666666667\n"
     ]
    }
   ],
   "source": [
    "import pandas as pd\n",
    "import numpy as np\n",
    "# print(\"dsc\", \"median\", \"mean\", \"dim\", \"budget\", \"meta\")\n",
    "data = []\n",
    "for modAlgo in ['modDE']:\n",
    "    n_conf = 324 if modAlgo == 'modCMA' else 576\n",
    "    \n",
    "    for meta in ['s2v', 'p2v']:\n",
    "        for dim in [5, 30]:\n",
    "            for budget in [50*dim, 100*dim, 300*dim, 500*dim, 1000*dim, 1500*dim]:\n",
    "                df = pd.read_csv(f'./statistical_tests/result_true_predicted/{modAlgo}_{meta}_{dim}_{budget}.csv', delimiter='\\t')\n",
    "                dsc = df['dsc'].values\n",
    "                median = df['median'].values\n",
    "                mean = df['mean'].values\n",
    "                # print(df)\n",
    "                # print(dsc)\n",
    "                cnt_dsc = [1 if d <= 0.1 else 0 for d in dsc] \n",
    "                cnt_median = [1 if d <= 0.05 else 0 for d in median] \n",
    "                cnt_mean = [1 if d <= 0.05 else 0 for d in mean] \n",
    "                perc_no_difference_dsc = (n_conf-np.sum(cnt_dsc))/n_conf*100\n",
    "                # perc_no_difference_median = (n_conf-np.sum(cnt_median))/n_conf*100\n",
    "                # perc_no_difference_mean = (n_conf-np.sum(cnt_mean))/n_conf*100\n",
    "                # print(round(perc_no_difference_dsc,1), round(perc_no_difference_median,1), round(perc_no_difference_mean,1), dim, budget, meta)\n",
    "                data.append([round(perc_no_difference_dsc,1), dim, budget, meta])\n",
    "\n",
    "\n",
    "df_f = pd.DataFrame(data, columns=[\"dsc\", \"dim\", \"budget\", \"meta\"])\n",
    "print(df_f)\n",
    "print('avg dsc', np.mean(df_f['dsc']))\n",
    "# print('avg median', np.mean(df_f['median']))\n",
    "# print('avg mean', np.mean(df_f['mean']))"
   ]
  },
  {
   "cell_type": "code",
   "execution_count": 6,
   "metadata": {},
   "outputs": [],
   "source": [
    "# generate random matches \n",
    "import random\n",
    "import pandas as pd\n",
    "\n",
    "random_seeds = [1,2,3,4,5]\n",
    "for seed in random_seeds:\n",
    "    random.seed(seed)\n",
    "    for modAlgo in ['modCMA', 'modDE']:\n",
    "        n_conf = 324 if modAlgo == 'modCMA' else 576\n",
    "        for meta in ['s2v', 'p2v']:\n",
    "            for dim in [5, 30]:\n",
    "                for budget in [50*dim, 100*dim, 300*dim, 500*dim, 1000*dim, 1500*dim]:\n",
    "                    data = []\n",
    "                    for i in range(0, n_conf):\n",
    "                        data.append([i, random.randint(0, n_conf-1)])\n",
    "                    df = pd.DataFrame(data=data, columns=['true_conf','predicted_conf'])\n",
    "                    df.to_csv(f'./statistical_tests/random_match/{modAlgo}_{meta}_{dim}_{budget}_seed_{seed}.csv', index=False)"
   ]
  },
  {
   "attachments": {},
   "cell_type": "markdown",
   "metadata": {},
   "source": [
    "Process random match results"
   ]
  },
  {
   "cell_type": "code",
   "execution_count": 26,
   "metadata": {},
   "outputs": [
    {
     "name": "stdout",
     "output_type": "stream",
     "text": [
      "324\n",
      "    dsc mean  dsc std  dim  budget meta\n",
      "0       33.6      2.0    5     250  s2v\n",
      "1       62.2      3.5    5     500  s2v\n",
      "2       57.5      1.6    5    1500  s2v\n",
      "3       57.2      2.3    5    2500  s2v\n",
      "4       48.7      2.3    5    5000  s2v\n",
      "5       43.6      1.7    5    7500  s2v\n",
      "6       24.6      2.7   30    1500  s2v\n",
      "7       26.9      2.3   30    3000  s2v\n",
      "8       35.2      3.0   30    9000  s2v\n",
      "9       33.5      2.4   30   15000  s2v\n",
      "10      36.8      1.1   30   30000  s2v\n",
      "11      34.0      2.1   30   45000  s2v\n",
      "12      36.4      2.0    5     250  p2v\n",
      "13      64.0      1.6    5     500  p2v\n",
      "14      58.4      3.1    5    1500  p2v\n",
      "15      55.8      3.1    5    2500  p2v\n",
      "16      48.5      0.6    5    5000  p2v\n",
      "17      42.7      3.0    5    7500  p2v\n",
      "18      22.5      1.2   30    1500  p2v\n",
      "19      27.0      3.1   30    3000  p2v\n",
      "20      36.5      1.7   30    9000  p2v\n",
      "21      34.8      1.5   30   15000  p2v\n",
      "22      38.9      1.7   30   30000  p2v\n",
      "23      34.1      2.9   30   45000  p2v\n",
      "576\n",
      "    dsc mean  dsc std  dim  budget meta\n",
      "0       14.5      1.2    5     250  s2v\n",
      "1       11.2      0.8    5     500  s2v\n",
      "2       10.0      1.4    5    1500  s2v\n",
      "3       11.5      0.9    5    2500  s2v\n",
      "4       13.0      1.1    5    5000  s2v\n",
      "5       16.0      1.5    5    7500  s2v\n",
      "6       12.2      1.5   30    1500  s2v\n",
      "7       10.9      1.6   30    3000  s2v\n",
      "8       12.3      0.7   30    9000  s2v\n",
      "9       16.6      1.2   30   15000  s2v\n",
      "10      19.5      1.5   30   30000  s2v\n",
      "11      23.2      0.9   30   45000  s2v\n",
      "12      12.6      1.7    5     250  p2v\n",
      "13      12.2      1.3    5     500  p2v\n",
      "14       9.9      1.1    5    1500  p2v\n",
      "15      11.3      1.6    5    2500  p2v\n",
      "16      12.6      1.0    5    5000  p2v\n",
      "17      15.0      1.7    5    7500  p2v\n",
      "18      10.8      0.7   30    1500  p2v\n",
      "19      11.7      1.1   30    3000  p2v\n",
      "20      13.2      0.9   30    9000  p2v\n",
      "21      15.7      1.1   30   15000  p2v\n",
      "22      19.0      1.0   30   30000  p2v\n",
      "23      22.5      1.8   30   45000  p2v\n"
     ]
    }
   ],
   "source": [
    "import pandas as pd\n",
    "import numpy as np\n",
    "\n",
    "for modAlgo in ['modCMA', 'modDE']:\n",
    "    data = []\n",
    "    n_conf = 324 if modAlgo == 'modCMA' else 576   \n",
    "    print(n_conf)\n",
    "    for meta in ['s2v', 'p2v']:\n",
    "        for dim in [5, 30]:\n",
    "            for budget in [50*dim, 100*dim, 300*dim, 500*dim, 1000*dim, 1500*dim]:\n",
    "                perc_no_difference_dsc_array = []\n",
    "                for seed in [1,2,3,4,5]:\n",
    "                    df = pd.read_csv(f'./statistical_tests/result_rm/{modAlgo}_{meta}_{dim}_{budget}_seed_{seed}.csv', delimiter='\\t')\n",
    "                    dsc = df['mean'].values\n",
    "                    cnt_dsc = [1 if d <= 0.05 else 0 for d in dsc] \n",
    "                    perc_no_difference_dsc = (n_conf-np.sum(cnt_dsc))/n_conf*100\n",
    "                    perc_no_difference_dsc_array.append(perc_no_difference_dsc)\n",
    "                \n",
    "                data.append([round(np.mean(perc_no_difference_dsc_array),1), round(np.std(perc_no_difference_dsc_array),1), dim, budget, meta])\n",
    "\n",
    "\n",
    "    df_f = pd.DataFrame(data, columns=[\"dsc mean\", 'dsc std', \"dim\", \"budget\", \"meta\"])\n",
    "    print(df_f)\n",
    "# print('avg dsc', np.mean(df_f['dsc']))\n",
    "# print('avg median', np.mean(df_f['median']))\n",
    "# print('avg mean', np.mean(df_f['mean']))"
   ]
  }
 ],
 "metadata": {
  "kernelspec": {
   "display_name": "Python 3.8.3 64-bit",
   "language": "python",
   "name": "python3"
  },
  "language_info": {
   "codemirror_mode": {
    "name": "ipython",
    "version": 3
   },
   "file_extension": ".py",
   "mimetype": "text/x-python",
   "name": "python",
   "nbconvert_exporter": "python",
   "pygments_lexer": "ipython3",
   "version": "3.8.3"
  },
  "orig_nbformat": 4,
  "vscode": {
   "interpreter": {
    "hash": "949777d72b0d2535278d3dc13498b2535136f6dfe0678499012e853ee9abcab1"
   }
  }
 },
 "nbformat": 4,
 "nbformat_minor": 2
}
