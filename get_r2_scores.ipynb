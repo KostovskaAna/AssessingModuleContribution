{
 "cells": [
  {
   "cell_type": "code",
   "execution_count": 1,
   "metadata": {},
   "outputs": [
    {
     "name": "stdout",
     "output_type": "stream",
     "text": [
      "250 5 0.7577\n",
      "500 5 0.7689\n",
      "1500 5 0.6146\n",
      "2500 5 0.7045\n",
      "5000 5 0.7272\n",
      "7500 5 0.7288\n",
      "1500 30 0.94\n",
      "3000 30 0.9179\n",
      "9000 30 0.8457\n",
      "15000 30 0.8322\n",
      "30000 30 0.8072\n",
      "45000 30 0.8391\n"
     ]
    }
   ],
   "source": [
    "import pandas as pd\n",
    "import numpy as np\n",
    "\n",
    "for dim in [5, 30]:\n",
    "    for budget in [50*dim, 100*dim, 300*dim, 500*dim, 1000*dim, 1500*dim]:\n",
    "        r2_scores = []\n",
    "        for conf in range(0, 324):\n",
    "            df = pd.read_csv(f'./results/modCMA/regression_performance_tables/RForest_conf_{conf}.csv', index_col=0)\n",
    "            r2 = float(df[(df['budget']==budget)&(df['dim']==dim)]['test_r2'])\n",
    "            r2_scores.append(r2)\n",
    "        r2_mean = np.mean(r2_scores, axis=0)\n",
    "        print(budget, dim, round(r2_mean,4))"
   ]
  },
  {
   "cell_type": "code",
   "execution_count": 2,
   "metadata": {},
   "outputs": [
    {
     "name": "stdout",
     "output_type": "stream",
     "text": [
      "250 5 0.8788\n",
      "500 5 0.8783\n",
      "1500 5 0.8587\n",
      "2500 5 0.8368\n",
      "5000 5 0.7795\n",
      "7500 5 0.7508\n",
      "1500 30 0.9403\n",
      "3000 30 0.9433\n",
      "9000 30 0.9362\n",
      "15000 30 0.9361\n",
      "30000 30 0.9242\n",
      "45000 30 0.9191\n"
     ]
    }
   ],
   "source": [
    "import pandas as pd\n",
    "import numpy as np\n",
    "for dim in [5, 30]:\n",
    "    for budget in [50*dim, 100*dim, 300*dim, 500*dim, 1000*dim, 1500*dim]:\n",
    "        r2_scores = []\n",
    "        for conf in range(0, 576):\n",
    "            df = pd.read_csv(f'./results/modDE/regression_performance_tables/RForest_conf_{conf}.csv', index_col=0)\n",
    "            r2 = float(df[(df['budget']==budget)&(df['dim']==dim)]['test_r2'])\n",
    "            r2_scores.append(r2)\n",
    "        r2_mean = np.mean(r2_scores, axis=0)\n",
    "        print(budget, dim, round(r2_mean,4))"
   ]
  },
  {
   "cell_type": "markdown",
   "metadata": {},
   "source": [
    "Dummy"
   ]
  },
  {
   "cell_type": "code",
   "execution_count": 9,
   "metadata": {},
   "outputs": [
    {
     "name": "stdout",
     "output_type": "stream",
     "text": [
      "250 5 -0.0072 4.0248\n",
      "500 5 -0.0069 5.1834\n",
      "1500 5 -0.0072 8.9112\n",
      "2500 5 -0.0055 13.9604\n",
      "5000 5 -0.0046 15.2566\n",
      "7500 5 -0.0048 15.198\n",
      "1500 30 -0.0005 2.461\n",
      "3000 30 -0.0008 3.2073\n",
      "9000 30 -0.0031 5.8091\n",
      "15000 30 -0.003 6.6078\n",
      "30000 30 -0.0029 7.9612\n",
      "45000 30 -0.0023 10.9973\n"
     ]
    }
   ],
   "source": [
    "import pandas as pd\n",
    "import numpy as np\n",
    "\n",
    "\n",
    "for dim in [5, 30]:\n",
    "    for budget in [50*dim, 100*dim, 300*dim, 500*dim, 1000*dim, 1500*dim]:\n",
    "        r2_scores = []\n",
    "        mse_scores = []\n",
    "        for conf in range(0, 324):\n",
    "            df = pd.read_csv(f'./dummy_regressor.csv', index_col=0)\n",
    "            r2 = float(df[(df['budget']==budget)&(df['dim']==dim)&(df['modAlgo']=='modCMA')&(df['conf']==conf)]['test_r2'])\n",
    "            r2_scores.append(r2)\n",
    "            mse = float(df[(df['budget']==budget)&(df['dim']==dim)&(df['modAlgo']=='modCMA')&(df['conf']==conf)]['test_mse'])\n",
    "            mse_scores.append(mse)\n",
    "        r2_mean = np.mean(r2_scores, axis=0)\n",
    "        mse_mean = np.mean(mse_scores, axis=0)\n",
    "        print(budget, dim, round(r2_mean,4), round(mse_mean,4))"
   ]
  },
  {
   "cell_type": "code",
   "execution_count": 12,
   "metadata": {},
   "outputs": [
    {
     "name": "stdout",
     "output_type": "stream",
     "text": [
      "250 5 -0.0019 3.383\n",
      "500 5 -0.0017 3.9106\n",
      "1500 5 -0.0016 5.6781\n",
      "2500 5 -0.0024 6.1126\n",
      "5000 5 -0.0043 6.8843\n",
      "7500 5 -0.0051 7.4111\n",
      "1500 30 -0.0009 3.7964\n",
      "3000 30 -0.0008 4.225\n",
      "9000 30 -0.0013 4.9577\n",
      "15000 30 -0.0015 6.1386\n",
      "30000 30 -0.002 7.0673\n",
      "45000 30 -0.0023 7.6636\n"
     ]
    }
   ],
   "source": [
    "import pandas as pd\n",
    "import numpy as np\n",
    "\n",
    "\n",
    "for dim in [5, 30]:\n",
    "    for budget in [50*dim, 100*dim, 300*dim, 500*dim, 1000*dim, 1500*dim]:\n",
    "        r2_scores = []\n",
    "        mse_scores = []\n",
    "        for conf in range(0, 576):\n",
    "            df = pd.read_csv(f'./dummy_regressor.csv', index_col=0)\n",
    "            r2 = float(df[(df['budget']==budget)&(df['dim']==dim)&(df['modAlgo']=='modDE')&(df['conf']==conf)]['test_r2'])\n",
    "            r2_scores.append(r2)\n",
    "            mse = float(df[(df['budget']==budget)&(df['dim']==dim)&(df['modAlgo']=='modDE')&(df['conf']==conf)]['test_mse'])\n",
    "            mse_scores.append(mse)\n",
    "        r2_mean = np.mean(r2_scores, axis=0)\n",
    "        mse_mean = np.mean(mse_scores, axis=0)\n",
    "        print(budget, dim, round(r2_mean,4), round(mse_mean,4))"
   ]
  }
 ],
 "metadata": {
  "kernelspec": {
   "display_name": "Python 3.8.3 64-bit",
   "language": "python",
   "name": "python3"
  },
  "language_info": {
   "codemirror_mode": {
    "name": "ipython",
    "version": 3
   },
   "file_extension": ".py",
   "mimetype": "text/x-python",
   "name": "python",
   "nbconvert_exporter": "python",
   "pygments_lexer": "ipython3",
   "version": "3.8.16"
  },
  "orig_nbformat": 4,
  "vscode": {
   "interpreter": {
    "hash": "949777d72b0d2535278d3dc13498b2535136f6dfe0678499012e853ee9abcab1"
   }
  }
 },
 "nbformat": 4,
 "nbformat_minor": 2
}
