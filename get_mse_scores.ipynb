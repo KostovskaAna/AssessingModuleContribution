{
 "cells": [
  {
   "cell_type": "code",
   "execution_count": 1,
   "metadata": {},
   "outputs": [
    {
     "name": "stdout",
     "output_type": "stream",
     "text": [
      "250 5 0.3716\n",
      "500 5 0.4326\n",
      "1500 5 0.809\n",
      "2500 5 1.0403\n",
      "5000 5 1.9462\n",
      "7500 5 2.3355\n",
      "1500 30 0.2642\n",
      "3000 30 0.2458\n",
      "9000 30 0.3055\n",
      "15000 30 0.3803\n",
      "30000 30 0.5378\n",
      "45000 30 0.634\n"
     ]
    }
   ],
   "source": [
    "import pandas as pd\n",
    "import numpy as np\n",
    "\n",
    "for dim in [5, 30]:\n",
    "    for budget in [50*dim, 100*dim, 300*dim, 500*dim, 1000*dim, 1500*dim]:\n",
    "        r2_scores = []\n",
    "        for conf in range(0, 324):\n",
    "            df = pd.read_csv(f'/Users/anakostovska/Dropbox/ECJ_submission_2023/GECCO_journal_extension_refactored/results/modDE/regression_performance_tables_mse/RForest_conf_{conf}.csv', index_col=0)\n",
    "            r2 = float(df[(df['budget']==budget)&(df['dim']==dim)]['test_mse'])\n",
    "            r2_scores.append(r2)\n",
    "        r2_mean = np.mean(r2_scores, axis=0)\n",
    "        print(budget, dim, round(r2_mean,4))"
   ]
  },
  {
   "cell_type": "code",
   "execution_count": 2,
   "metadata": {},
   "outputs": [
    {
     "name": "stdout",
     "output_type": "stream",
     "text": [
      "250 5 0.8788\n",
      "500 5 0.8783\n",
      "1500 5 0.8587\n",
      "2500 5 0.8368\n",
      "5000 5 0.7795\n",
      "7500 5 0.7508\n",
      "1500 30 0.9403\n",
      "3000 30 0.9433\n",
      "9000 30 0.9362\n",
      "15000 30 0.9361\n",
      "30000 30 0.9242\n",
      "45000 30 0.9191\n"
     ]
    }
   ],
   "source": [
    "import pandas as pd\n",
    "import numpy as np\n",
    "for dim in [5, 30]:\n",
    "    for budget in [50*dim, 100*dim, 300*dim, 500*dim, 1000*dim, 1500*dim]:\n",
    "        r2_scores = []\n",
    "        for conf in range(0, 576):\n",
    "            df = pd.read_csv(f'./results/modDE/regression_performance_tables_mse/RForest_conf_{conf}.csv', index_col=0)\n",
    "            r2 = float(df[(df['budget']==budget)&(df['dim']==dim)]['test_r2'])\n",
    "            r2_scores.append(r2)\n",
    "        r2_mean = np.mean(r2_scores, axis=0)\n",
    "        print(budget, dim, round(r2_mean,4))"
   ]
  }
 ],
 "metadata": {
  "kernelspec": {
   "display_name": "Python 3.8.3 64-bit",
   "language": "python",
   "name": "python3"
  },
  "language_info": {
   "codemirror_mode": {
    "name": "ipython",
    "version": 3
   },
   "file_extension": ".py",
   "mimetype": "text/x-python",
   "name": "python",
   "nbconvert_exporter": "python",
   "pygments_lexer": "ipython3",
   "version": "3.8.3"
  },
  "orig_nbformat": 4,
  "vscode": {
   "interpreter": {
    "hash": "949777d72b0d2535278d3dc13498b2535136f6dfe0678499012e853ee9abcab1"
   }
  }
 },
 "nbformat": 4,
 "nbformat_minor": 2
}
